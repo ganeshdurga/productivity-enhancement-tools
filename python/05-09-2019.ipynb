{
 "cells": [
  {
   "cell_type": "markdown",
   "metadata": {},
   "source": [
    "# heading\n",
    "## headng\n",
    "### heading\n",
    "#### heading"
   ]
  },
  {
   "cell_type": "markdown",
   "metadata": {},
   "source": [
    "` high light `"
   ]
  },
  {
   "cell_type": "markdown",
   "metadata": {},
   "source": [
    "*hii*"
   ]
  },
  {
   "cell_type": "markdown",
   "metadata": {},
   "source": [
    "<img src=\"data:image/jpeg;base64,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\">"
   ]
  },
  {
   "cell_type": "markdown",
   "metadata": {},
   "source": []
  },
  {
   "cell_type": "code",
   "execution_count": 44,
   "metadata": {},
   "outputs": [
    {
     "data": {
      "text/html": [
       "<iframe width=\"853\" height=\"480\" src=\"https://www.youtube.com/embed/_uQrJ0TkZlc\" frameborder=\"0\" allow=\"accelerometer; autoplay; encrypted-media; gyroscope; picture-in-picture\" allowfullscreen></iframe>\n"
      ],
      "text/plain": [
       "<IPython.core.display.HTML object>"
      ]
     },
     "metadata": {},
     "output_type": "display_data"
    }
   ],
   "source": [
    "%%HTML\n",
    "<iframe width=\"853\" height=\"480\" src=\"https://www.youtube.com/embed/_uQrJ0TkZlc\" frameborder=\"0\" allow=\"accelerometer; autoplay; encrypted-media; gyroscope; picture-in-picture\" allowfullscreen></iframe>"
   ]
  },
  {
   "cell_type": "markdown",
   "metadata": {},
   "source": [
    "* python\n",
    "* java\n",
    "* r programming \n",
    "* scripting languages\n",
    "  - html\n",
    "  - xml"
   ]
  },
  {
   "cell_type": "code",
   "execution_count": null,
   "metadata": {},
   "outputs": [],
   "source": []
  },
  {
   "cell_type": "markdown",
   "metadata": {},
   "source": [
    " # python programming\n",
    " \n",
    " * arithematic operators\n",
    " * logical operators\n",
    " * assignment operators\n",
    " * relational operators\n",
    " * bitwise operators\n",
    " * identity operators\n",
    " * membership operators"
   ]
  },
  {
   "cell_type": "code",
   "execution_count": 45,
   "metadata": {},
   "outputs": [
    {
     "name": "stdout",
     "output_type": "stream",
     "text": [
      "hello world\n"
     ]
    }
   ],
   "source": [
    "print(\"hello world\")"
   ]
  },
  {
   "cell_type": "code",
   "execution_count": 46,
   "metadata": {},
   "outputs": [
    {
     "data": {
      "text/plain": [
       "15"
      ]
     },
     "execution_count": 46,
     "metadata": {},
     "output_type": "execute_result"
    }
   ],
   "source": [
    "(5+10)"
   ]
  },
  {
   "cell_type": "markdown",
   "metadata": {},
   "source": [
    "## arithematic operators\n"
   ]
  },
  {
   "cell_type": "code",
   "execution_count": 47,
   "metadata": {},
   "outputs": [
    {
     "data": {
      "text/plain": [
       "24"
      ]
     },
     "execution_count": 47,
     "metadata": {},
     "output_type": "execute_result"
    }
   ],
   "source": [
    "(20+4)"
   ]
  },
  {
   "cell_type": "code",
   "execution_count": 48,
   "metadata": {},
   "outputs": [
    {
     "data": {
      "text/plain": [
       "39"
      ]
     },
     "execution_count": 48,
     "metadata": {},
     "output_type": "execute_result"
    }
   ],
   "source": [
    "(43-4)"
   ]
  },
  {
   "cell_type": "code",
   "execution_count": 49,
   "metadata": {},
   "outputs": [
    {
     "data": {
      "text/plain": [
       "2.0"
      ]
     },
     "execution_count": 49,
     "metadata": {},
     "output_type": "execute_result"
    }
   ],
   "source": [
    "10/5"
   ]
  },
  {
   "cell_type": "code",
   "execution_count": 50,
   "metadata": {},
   "outputs": [
    {
     "data": {
      "text/plain": [
       "13"
      ]
     },
     "execution_count": 50,
     "metadata": {},
     "output_type": "execute_result"
    }
   ],
   "source": [
    "54//4"
   ]
  },
  {
   "cell_type": "code",
   "execution_count": 70,
   "metadata": {},
   "outputs": [
    {
     "data": {
      "text/plain": [
       "32"
      ]
     },
     "execution_count": 70,
     "metadata": {},
     "output_type": "execute_result"
    }
   ],
   "source": [
    "2**5"
   ]
  },
  {
   "cell_type": "code",
   "execution_count": 51,
   "metadata": {},
   "outputs": [
    {
     "data": {
      "text/plain": [
       "3"
      ]
     },
     "execution_count": 51,
     "metadata": {},
     "output_type": "execute_result"
    }
   ],
   "source": [
    "10%7"
   ]
  },
  {
   "cell_type": "markdown",
   "metadata": {},
   "source": [
    "# assignment operators"
   ]
  },
  {
   "cell_type": "code",
   "execution_count": 56,
   "metadata": {},
   "outputs": [
    {
     "data": {
      "text/plain": [
       "int"
      ]
     },
     "execution_count": 56,
     "metadata": {},
     "output_type": "execute_result"
    }
   ],
   "source": [
    "a=10\n",
    "type(a)"
   ]
  },
  {
   "cell_type": "code",
   "execution_count": 57,
   "metadata": {},
   "outputs": [
    {
     "data": {
      "text/plain": [
       "str"
      ]
     },
     "execution_count": 57,
     "metadata": {},
     "output_type": "execute_result"
    }
   ],
   "source": [
    "a=\"hii\"\n",
    "type(a)"
   ]
  },
  {
   "cell_type": "code",
   "execution_count": 58,
   "metadata": {},
   "outputs": [],
   "source": [
    "a=b=c=10"
   ]
  },
  {
   "cell_type": "code",
   "execution_count": 59,
   "metadata": {},
   "outputs": [
    {
     "data": {
      "text/plain": [
       "(10, 10, 10)"
      ]
     },
     "execution_count": 59,
     "metadata": {},
     "output_type": "execute_result"
    }
   ],
   "source": [
    "a,b,c"
   ]
  },
  {
   "cell_type": "code",
   "execution_count": 60,
   "metadata": {},
   "outputs": [
    {
     "name": "stdout",
     "output_type": "stream",
     "text": [
      "1\n"
     ]
    }
   ],
   "source": [
    "a,b,c=1,2,3\n",
    "print(a)"
   ]
  },
  {
   "cell_type": "code",
   "execution_count": 62,
   "metadata": {},
   "outputs": [],
   "source": [
    "a,b=4,5"
   ]
  },
  {
   "cell_type": "code",
   "execution_count": 63,
   "metadata": {},
   "outputs": [],
   "source": [
    "a,b=b,a"
   ]
  },
  {
   "cell_type": "code",
   "execution_count": 64,
   "metadata": {},
   "outputs": [
    {
     "name": "stdout",
     "output_type": "stream",
     "text": [
      "5\n"
     ]
    }
   ],
   "source": [
    "print(a)"
   ]
  },
  {
   "cell_type": "code",
   "execution_count": 65,
   "metadata": {},
   "outputs": [
    {
     "data": {
      "text/plain": [
       "6"
      ]
     },
     "execution_count": 65,
     "metadata": {},
     "output_type": "execute_result"
    }
   ],
   "source": [
    "a=a+1\n",
    "a"
   ]
  },
  {
   "cell_type": "code",
   "execution_count": 67,
   "metadata": {},
   "outputs": [
    {
     "data": {
      "text/plain": [
       "5"
      ]
     },
     "execution_count": 67,
     "metadata": {},
     "output_type": "execute_result"
    }
   ],
   "source": [
    "b+=1\n",
    "b"
   ]
  },
  {
   "cell_type": "code",
   "execution_count": 68,
   "metadata": {},
   "outputs": [
    {
     "data": {
      "text/plain": [
       "60"
      ]
     },
     "execution_count": 68,
     "metadata": {},
     "output_type": "execute_result"
    }
   ],
   "source": [
    "a*=10\n",
    "a\n",
    "  "
   ]
  },
  {
   "cell_type": "code",
   "execution_count": 69,
   "metadata": {},
   "outputs": [],
   "source": [
    "a//=4"
   ]
  },
  {
   "cell_type": "markdown",
   "metadata": {},
   "source": [
    "### relational operators"
   ]
  },
  {
   "cell_type": "code",
   "execution_count": 71,
   "metadata": {},
   "outputs": [
    {
     "data": {
      "text/plain": [
       "True"
      ]
     },
     "execution_count": 71,
     "metadata": {},
     "output_type": "execute_result"
    }
   ],
   "source": [
    "4!=6"
   ]
  },
  {
   "cell_type": "code",
   "execution_count": 72,
   "metadata": {},
   "outputs": [
    {
     "data": {
      "text/plain": [
       "False"
      ]
     },
     "execution_count": 72,
     "metadata": {},
     "output_type": "execute_result"
    }
   ],
   "source": [
    "4==3"
   ]
  },
  {
   "cell_type": "code",
   "execution_count": 73,
   "metadata": {},
   "outputs": [
    {
     "data": {
      "text/plain": [
       "True"
      ]
     },
     "execution_count": 73,
     "metadata": {},
     "output_type": "execute_result"
    }
   ],
   "source": [
    "4>=2"
   ]
  },
  {
   "cell_type": "code",
   "execution_count": 74,
   "metadata": {},
   "outputs": [
    {
     "data": {
      "text/plain": [
       "False"
      ]
     },
     "execution_count": 74,
     "metadata": {},
     "output_type": "execute_result"
    }
   ],
   "source": [
    "45<=34"
   ]
  },
  {
   "cell_type": "markdown",
   "metadata": {},
   "source": [
    "## bitwise operators"
   ]
  },
  {
   "cell_type": "code",
   "execution_count": 75,
   "metadata": {},
   "outputs": [
    {
     "data": {
      "text/plain": [
       "4"
      ]
     },
     "execution_count": 75,
     "metadata": {},
     "output_type": "execute_result"
    }
   ],
   "source": [
    "4&7"
   ]
  },
  {
   "cell_type": "code",
   "execution_count": 76,
   "metadata": {},
   "outputs": [
    {
     "data": {
      "text/plain": [
       "7"
      ]
     },
     "execution_count": 76,
     "metadata": {},
     "output_type": "execute_result"
    }
   ],
   "source": [
    "7|4"
   ]
  },
  {
   "cell_type": "code",
   "execution_count": 77,
   "metadata": {},
   "outputs": [
    {
     "data": {
      "text/plain": [
       "32"
      ]
     },
     "execution_count": 77,
     "metadata": {},
     "output_type": "execute_result"
    }
   ],
   "source": [
    "8 << 2"
   ]
  },
  {
   "cell_type": "code",
   "execution_count": 78,
   "metadata": {},
   "outputs": [
    {
     "data": {
      "text/plain": [
       "2"
      ]
     },
     "execution_count": 78,
     "metadata": {},
     "output_type": "execute_result"
    }
   ],
   "source": [
    "8 >> 2"
   ]
  },
  {
   "cell_type": "markdown",
   "metadata": {},
   "source": [
    "## identity operators"
   ]
  },
  {
   "cell_type": "code",
   "execution_count": 79,
   "metadata": {},
   "outputs": [
    {
     "data": {
      "text/plain": [
       "False"
      ]
     },
     "execution_count": 79,
     "metadata": {},
     "output_type": "execute_result"
    }
   ],
   "source": [
    "2==3"
   ]
  },
  {
   "cell_type": "code",
   "execution_count": 80,
   "metadata": {},
   "outputs": [
    {
     "data": {
      "text/plain": [
       "False"
      ]
     },
     "execution_count": 80,
     "metadata": {},
     "output_type": "execute_result"
    }
   ],
   "source": [
    "2 is 3"
   ]
  },
  {
   "cell_type": "code",
   "execution_count": 81,
   "metadata": {},
   "outputs": [
    {
     "data": {
      "text/plain": [
       "True"
      ]
     },
     "execution_count": 81,
     "metadata": {},
     "output_type": "execute_result"
    }
   ],
   "source": [
    "2!=3"
   ]
  },
  {
   "cell_type": "code",
   "execution_count": 82,
   "metadata": {},
   "outputs": [
    {
     "data": {
      "text/plain": [
       "True"
      ]
     },
     "execution_count": 82,
     "metadata": {},
     "output_type": "execute_result"
    }
   ],
   "source": [
    "2 is not 3"
   ]
  },
  {
   "cell_type": "markdown",
   "metadata": {},
   "source": [
    "### membership operators"
   ]
  },
  {
   "cell_type": "code",
   "execution_count": 83,
   "metadata": {},
   "outputs": [
    {
     "data": {
      "text/plain": [
       "True"
      ]
     },
     "execution_count": 83,
     "metadata": {},
     "output_type": "execute_result"
    }
   ],
   "source": [
    "\"ap\" in \" appssdc\""
   ]
  },
  {
   "cell_type": "code",
   "execution_count": 84,
   "metadata": {},
   "outputs": [
    {
     "data": {
      "text/plain": [
       "True"
      ]
     },
     "execution_count": 84,
     "metadata": {},
     "output_type": "execute_result"
    }
   ],
   "source": [
    "\"ap\" in \"apssdc\""
   ]
  },
  {
   "cell_type": "code",
   "execution_count": null,
   "metadata": {},
   "outputs": [],
   "source": []
  },
  {
   "cell_type": "code",
   "execution_count": 85,
   "metadata": {},
   "outputs": [
    {
     "data": {
      "text/plain": [
       "False"
      ]
     },
     "execution_count": 85,
     "metadata": {},
     "output_type": "execute_result"
    }
   ],
   "source": [
    "\"avanthi \" in \"Avanthi\""
   ]
  },
  {
   "cell_type": "markdown",
   "metadata": {},
   "source": [
    "### logical operators"
   ]
  },
  {
   "cell_type": "code",
   "execution_count": 87,
   "metadata": {},
   "outputs": [
    {
     "data": {
      "text/plain": [
       "True"
      ]
     },
     "execution_count": 87,
     "metadata": {},
     "output_type": "execute_result"
    }
   ],
   "source": [
    "True and True"
   ]
  },
  {
   "cell_type": "code",
   "execution_count": 88,
   "metadata": {},
   "outputs": [
    {
     "data": {
      "text/plain": [
       "True"
      ]
     },
     "execution_count": 88,
     "metadata": {},
     "output_type": "execute_result"
    }
   ],
   "source": [
    "True or True"
   ]
  },
  {
   "cell_type": "code",
   "execution_count": 89,
   "metadata": {},
   "outputs": [
    {
     "data": {
      "text/plain": [
       "True"
      ]
     },
     "execution_count": 89,
     "metadata": {},
     "output_type": "execute_result"
    }
   ],
   "source": [
    "True or False"
   ]
  },
  {
   "cell_type": "code",
   "execution_count": 90,
   "metadata": {},
   "outputs": [
    {
     "data": {
      "text/plain": [
       "False"
      ]
     },
     "execution_count": 90,
     "metadata": {},
     "output_type": "execute_result"
    }
   ],
   "source": [
    "False or False"
   ]
  },
  {
   "cell_type": "code",
   "execution_count": 91,
   "metadata": {},
   "outputs": [
    {
     "data": {
      "text/plain": [
       "False"
      ]
     },
     "execution_count": 91,
     "metadata": {},
     "output_type": "execute_result"
    }
   ],
   "source": [
    "False and True"
   ]
  },
  {
   "cell_type": "code",
   "execution_count": 92,
   "metadata": {},
   "outputs": [
    {
     "data": {
      "text/plain": [
       "False"
      ]
     },
     "execution_count": 92,
     "metadata": {},
     "output_type": "execute_result"
    }
   ],
   "source": [
    "False or False"
   ]
  },
  {
   "cell_type": "code",
   "execution_count": null,
   "metadata": {},
   "outputs": [],
   "source": []
  }
 ],
 "metadata": {
  "kernelspec": {
   "display_name": "Python 3",
   "language": "python",
   "name": "python3"
  },
  "language_info": {
   "codemirror_mode": {
    "name": "ipython",
    "version": 3
   },
   "file_extension": ".py",
   "mimetype": "text/x-python",
   "name": "python",
   "nbconvert_exporter": "python",
   "pygments_lexer": "ipython3",
   "version": "3.7.3"
  }
 },
 "nbformat": 4,
 "nbformat_minor": 2
}
