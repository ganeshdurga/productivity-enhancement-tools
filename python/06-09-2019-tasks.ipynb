{
 "cells": [
  {
   "cell_type": "markdown",
   "metadata": {},
   "source": [
    "# TASKS\n",
    "### task1"
   ]
  },
  {
   "cell_type": "markdown",
   "metadata": {},
   "source": [
    "Question-1: Write a Python Program to largest of three given numbers (using input statement)\n",
    "\n",
    "Sample:Output:\n",
    "A = 31\n",
    "B = 75\n",
    "C = 21\n",
    "\n",
    "Largest Number is 75"
   ]
  },
  {
   "cell_type": "code",
   "execution_count": 5,
   "metadata": {},
   "outputs": [
    {
     "name": "stdout",
     "output_type": "stream",
     "text": [
      "enter first number31\n",
      "enter second number75\n",
      "enter third number21\n",
      "75 is  largest number\n"
     ]
    }
   ],
   "source": [
    "a=int(input(\"enter first number\"))\n",
    "b=int(input(\"enter second number\"))\n",
    "c=int(input(\"enter third number\"))\n",
    "if a>b:\n",
    "    if a>c:\n",
    "        print(a,\"is a large number\")\n",
    "    else:\n",
    "        print(c, \"is a largest number\")\n",
    "elif b>a:\n",
    "    if b>c:\n",
    "        print(b,\"is  largest number\")\n",
    "    else:\n",
    "        print(c,\" is largest number\")"
   ]
  },
  {
   "cell_type": "markdown",
   "metadata": {},
   "source": [
    "## another method"
   ]
  },
  {
   "cell_type": "code",
   "execution_count": 6,
   "metadata": {},
   "outputs": [
    {
     "name": "stdout",
     "output_type": "stream",
     "text": [
      "enter first number:31\n",
      "enter second number:75\n",
      "enter third number:21\n",
      "75 is a large number\n"
     ]
    }
   ],
   "source": [
    "a=int(input(\"enter first number:\"))\n",
    "b=int(input(\"enter second number:\"))\n",
    "c=int(input(\"enter third number:\"))\n",
    "if a>b:\n",
    "    d=a\n",
    "elif b>a:\n",
    "    d=b\n",
    "else:\n",
    "    d=a=b\n",
    "if d<c:\n",
    "    print(c,\"is a large number\")\n",
    "else:\n",
    "    print(d,\"is a large number\")"
   ]
  },
  {
   "cell_type": "markdown",
   "metadata": {},
   "source": [
    "## task2\n",
    "Question -2: Write a python program to find the given number(N) in given range(lower bound-upper bound)\n",
    "\n",
    "Input Format:\n",
    "\n",
    "Enter Lower bound number: 10\n",
    "\n",
    "Enter Upper bound number: 20\n",
    "\n",
    "Enter N: 15\n",
    "Output Format:\n",
    "\n",
    "given number is exist"
   ]
  },
  {
   "cell_type": "code",
   "execution_count": 7,
   "metadata": {},
   "outputs": [
    {
     "name": "stdout",
     "output_type": "stream",
     "text": [
      "enter lower boundary10\n",
      "enter upper boundary20\n",
      "checking number:15\n",
      "given number is exist\n"
     ]
    }
   ],
   "source": [
    "a=int(input(\"enter lower boundary\"))\n",
    "b=int(input(\"enter upper boundary\"))\n",
    "n=int(input(\"checking number:\"))\n",
    "if n>a:\n",
    "    if n<b:\n",
    "        print(\"given number is exist\")\n",
    "    else:\n",
    "        print(\"given number is not exist\")\n",
    "else:\n",
    "    print(\"given number not exist\")"
   ]
  },
  {
   "cell_type": "code",
   "execution_count": null,
   "metadata": {},
   "outputs": [],
   "source": []
  }
 ],
 "metadata": {
  "kernelspec": {
   "display_name": "Python 3",
   "language": "python",
   "name": "python3"
  },
  "language_info": {
   "codemirror_mode": {
    "name": "ipython",
    "version": 3
   },
   "file_extension": ".py",
   "mimetype": "text/x-python",
   "name": "python",
   "nbconvert_exporter": "python",
   "pygments_lexer": "ipython3",
   "version": "3.7.3"
  }
 },
 "nbformat": 4,
 "nbformat_minor": 2
}
